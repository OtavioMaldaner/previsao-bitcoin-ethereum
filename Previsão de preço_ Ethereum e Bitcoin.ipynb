{
 "cells": [
  {
   "cell_type": "markdown",
   "metadata": {
    "application/vnd.databricks.v1+cell": {
     "cellMetadata": {
      "byteLimit": 2048000,
      "rowLimit": 10000
     },
     "inputWidgets": {},
     "nuid": "c10dd930-e973-4ee6-8d07-e9e53c29e25e",
     "showTitle": false,
     "title": ""
    }
   },
   "source": [
    "# Prevendo o preço: Bitcoin e Ethereum"
   ]
  },
  {
   "cell_type": "markdown",
   "metadata": {
    "application/vnd.databricks.v1+cell": {
     "cellMetadata": {
      "byteLimit": 2048000,
      "rowLimit": 10000
     },
     "inputWidgets": {},
     "nuid": "e4a1cfb3-5afc-4cbf-a935-3d9458e09b05",
     "showTitle": false,
     "title": ""
    }
   },
   "source": [
    "## Instalando a biblioteca com o banco de dados"
   ]
  },
  {
   "cell_type": "code",
   "execution_count": 0,
   "metadata": {
    "application/vnd.databricks.v1+cell": {
     "cellMetadata": {
      "byteLimit": 2048000,
      "rowLimit": 10000
     },
     "inputWidgets": {},
     "nuid": "3f18ef59-211e-45b1-84a1-bcc1165d87ca",
     "showTitle": false,
     "title": ""
    }
   },
   "outputs": [
    {
     "output_type": "stream",
     "name": "stdout",
     "output_type": "stream",
     "text": [
      "\u001B[43mNote: you may need to restart the kernel using dbutils.library.restartPython() to use updated packages.\u001B[0m\nRequirement already satisfied: kaggle in /local_disk0/.ephemeral_nfs/envs/pythonEnv-389dd12f-be73-4246-b4e3-9b7968940a8f/lib/python3.10/site-packages (1.6.12)\nRequirement already satisfied: urllib3 in /databricks/python3/lib/python3.10/site-packages (from kaggle) (1.26.14)\nRequirement already satisfied: tqdm in /local_disk0/.ephemeral_nfs/envs/pythonEnv-389dd12f-be73-4246-b4e3-9b7968940a8f/lib/python3.10/site-packages (from kaggle) (4.66.4)\nRequirement already satisfied: python-slugify in /local_disk0/.ephemeral_nfs/envs/pythonEnv-389dd12f-be73-4246-b4e3-9b7968940a8f/lib/python3.10/site-packages (from kaggle) (8.0.4)\nRequirement already satisfied: requests in /databricks/python3/lib/python3.10/site-packages (from kaggle) (2.28.1)\nRequirement already satisfied: bleach in /databricks/python3/lib/python3.10/site-packages (from kaggle) (4.1.0)\nRequirement already satisfied: six>=1.10 in /usr/lib/python3/dist-packages (from kaggle) (1.16.0)\nRequirement already satisfied: python-dateutil in /databricks/python3/lib/python3.10/site-packages (from kaggle) (2.8.2)\nRequirement already satisfied: certifi>=2023.7.22 in /local_disk0/.ephemeral_nfs/envs/pythonEnv-389dd12f-be73-4246-b4e3-9b7968940a8f/lib/python3.10/site-packages (from kaggle) (2024.2.2)\nRequirement already satisfied: webencodings in /databricks/python3/lib/python3.10/site-packages (from bleach->kaggle) (0.5.1)\nRequirement already satisfied: packaging in /databricks/python3/lib/python3.10/site-packages (from bleach->kaggle) (23.2)\nRequirement already satisfied: text-unidecode>=1.3 in /local_disk0/.ephemeral_nfs/envs/pythonEnv-389dd12f-be73-4246-b4e3-9b7968940a8f/lib/python3.10/site-packages (from python-slugify->kaggle) (1.3)\nRequirement already satisfied: idna<4,>=2.5 in /databricks/python3/lib/python3.10/site-packages (from requests->kaggle) (3.4)\nRequirement already satisfied: charset-normalizer<3,>=2 in /databricks/python3/lib/python3.10/site-packages (from requests->kaggle) (2.0.4)\n\u001B[43mNote: you may need to restart the kernel using dbutils.library.restartPython() to use updated packages.\u001B[0m\n"
     ]
    }
   ],
   "source": [
    "!pip install kaggle"
   ]
  },
  {
   "cell_type": "markdown",
   "metadata": {
    "application/vnd.databricks.v1+cell": {
     "cellMetadata": {
      "byteLimit": 2048000,
      "rowLimit": 10000
     },
     "inputWidgets": {},
     "nuid": "2b5cfdd8-caad-4d1a-8152-a37b13f61b4d",
     "showTitle": false,
     "title": ""
    }
   },
   "source": [
    "## Importando as bibliotecas"
   ]
  },
  {
   "cell_type": "code",
   "execution_count": 0,
   "metadata": {
    "application/vnd.databricks.v1+cell": {
     "cellMetadata": {
      "byteLimit": 2048000,
      "rowLimit": 10000
     },
     "inputWidgets": {},
     "nuid": "cc79dc64-27bb-43e1-8b5f-38e655b79385",
     "showTitle": false,
     "title": ""
    }
   },
   "outputs": [],
   "source": [
    "import requests\n",
    "from pyspark.sql import functions as F, types as T\n",
    "import pandas as pd"
   ]
  },
  {
   "cell_type": "markdown",
   "metadata": {
    "application/vnd.databricks.v1+cell": {
     "cellMetadata": {
      "byteLimit": 2048000,
      "rowLimit": 10000
     },
     "inputWidgets": {},
     "nuid": "8b5b3ef7-2e06-4c61-bf68-547b0f7cbde6",
     "showTitle": false,
     "title": ""
    }
   },
   "source": [
    "## Baixando os dados"
   ]
  },
  {
   "cell_type": "code",
   "execution_count": 0,
   "metadata": {
    "application/vnd.databricks.v1+cell": {
     "cellMetadata": {
      "byteLimit": 2048000,
      "rowLimit": 10000
     },
     "inputWidgets": {},
     "nuid": "df3b1c4f-e348-4b71-a93a-5464ddf1455a",
     "showTitle": false,
     "title": ""
    }
   },
   "outputs": [
    {
     "output_type": "stream",
     "name": "stdout",
     "output_type": "stream",
     "text": [
      "Dataset URL: https://www.kaggle.com/datasets/kapturovalexander/bitcoin-and-ethereum-prices-from-start-to-2023\r\nLicense(s): CC0-1.0\r\nbitcoin-and-ethereum-prices-from-start-to-2023.zip: Skipping, found more recently modified local copy (use --force to force download)\r\n"
     ]
    }
   ],
   "source": [
    "!kaggle datasets download -d kapturovalexander/bitcoin-and-ethereum-prices-from-start-to-2023"
   ]
  },
  {
   "cell_type": "markdown",
   "metadata": {
    "application/vnd.databricks.v1+cell": {
     "cellMetadata": {
      "byteLimit": 2048000,
      "rowLimit": 10000
     },
     "inputWidgets": {},
     "nuid": "b62e76e5-df77-4ddf-b8d3-d2c51cb98a65",
     "showTitle": false,
     "title": ""
    }
   },
   "source": [
    "## Extração do aquivo .zip"
   ]
  },
  {
   "cell_type": "code",
   "execution_count": 0,
   "metadata": {
    "application/vnd.databricks.v1+cell": {
     "cellMetadata": {
      "byteLimit": 2048000,
      "rowLimit": 10000
     },
     "inputWidgets": {},
     "nuid": "ff2bb010-33d2-45d2-ad7c-9906cf368556",
     "showTitle": false,
     "title": ""
    }
   },
   "outputs": [
    {
     "output_type": "stream",
     "name": "stdout",
     "output_type": "stream",
     "text": [
      "Archive:  /databricks/driver/bitcoin-and-ethereum-prices-from-start-to-2023.zip\r\n  inflating: BTC-USD (2014-2024).csv  \r\n  inflating: Bitcoin USD (01-05.2024).csv  \r\n  inflating: ETH-USD (01-05.2024).csv  \r\n  inflating: ETH-USD (2017-2024).csv  \r\n"
     ]
    }
   ],
   "source": [
    "!unzip -o /databricks/driver/bitcoin-and-ethereum-prices-from-start-to-2023.zip"
   ]
  },
  {
   "cell_type": "markdown",
   "metadata": {
    "application/vnd.databricks.v1+cell": {
     "cellMetadata": {
      "byteLimit": 2048000,
      "rowLimit": 10000
     },
     "inputWidgets": {},
     "nuid": "7f651833-8144-4e82-9fdb-da0a0d38c87e",
     "showTitle": false,
     "title": ""
    }
   },
   "source": [
    "## Tratamento das tabelas"
   ]
  },
  {
   "cell_type": "code",
   "execution_count": 0,
   "metadata": {
    "application/vnd.databricks.v1+cell": {
     "cellMetadata": {
      "byteLimit": 2048000,
      "rowLimit": 10000
     },
     "inputWidgets": {},
     "nuid": "89558c45-0a7e-4d53-aef4-7d6d67558c30",
     "showTitle": false,
     "title": ""
    }
   },
   "outputs": [],
   "source": [
    "tables = {\n",
    "    df_btc: \"file:/databricks/driver/BTC-USD (2014-2024).csv\",\n",
    "    df_btc_2024: \"file:/databricks/driver/Bitcoin USD (01-05.2024).csv\",\n",
    "    df_etc: \"file:/databricks/driver/ETH-USD (2017-2024).csv\",\n",
    "    df_etc_2024: \"file:/databricks/driver/ETH-USD (01-05.2024).csv\"\n",
    "}"
   ]
  },
  {
   "cell_type": "markdown",
   "metadata": {
    "application/vnd.databricks.v1+cell": {
     "cellMetadata": {
      "byteLimit": 2048000,
      "rowLimit": 10000
     },
     "inputWidgets": {},
     "nuid": "202cfd1c-e733-4678-91ed-e57b7e406d74",
     "showTitle": false,
     "title": ""
    }
   },
   "source": [
    "## Geração dos DataFrames\n",
    "Está sendo dessa maneira para evitar um código muito repetitivo "
   ]
  },
  {
   "cell_type": "code",
   "execution_count": 0,
   "metadata": {
    "application/vnd.databricks.v1+cell": {
     "cellMetadata": {
      "byteLimit": 2048000,
      "rowLimit": 10000
     },
     "inputWidgets": {},
     "nuid": "39334c92-0867-47d0-b268-b5d9268c0e32",
     "showTitle": false,
     "title": ""
    }
   },
   "outputs": [],
   "source": [
    "for df, table in tables.items():\n",
    "    df = (\n",
    "        spark.read.csv(table, header=True)\n",
    "        .withColumn(\"Open\", F.col(\"Open\").cast(T.DoubleType()))\n",
    "        .withColumn(\"High\", F.col(\"High\").cast(T.DoubleType()))\n",
    "        .withColumn(\"Low\", F.col(\"Low\").cast(T.DoubleType()))\n",
    "        .withColumn(\"Close\", F.col(\"Close\").cast(T.DoubleType()))\n",
    "        .withColumn(\"Volume\", F.col(\"Volume\").cast(T.IntegerType()))\n",
    "        .withColumn(\"Date\", F.to_date(F.col(\"Date\")))\n",
    "        .drop(\"Adj Close\")\n",
    "    )"
   ]
  },
  {
   "cell_type": "markdown",
   "metadata": {
    "application/vnd.databricks.v1+cell": {
     "cellMetadata": {
      "byteLimit": 2048000,
      "rowLimit": 10000
     },
     "inputWidgets": {},
     "nuid": "29e35d29-0c1b-4443-9ac2-1c6dbeea20c3",
     "showTitle": false,
     "title": ""
    }
   },
   "source": [
    "## Unindo as tabelas"
   ]
  },
  {
   "cell_type": "code",
   "execution_count": 0,
   "metadata": {
    "application/vnd.databricks.v1+cell": {
     "cellMetadata": {
      "byteLimit": 2048000,
      "rowLimit": 10000
     },
     "inputWidgets": {},
     "nuid": "58d3775f-17ee-4322-b619-ddb70e10288d",
     "showTitle": false,
     "title": ""
    }
   },
   "outputs": [],
   "source": [
    "df_btc_final = df_btc.union(df_btc_2024).toPandas().set_index('Date')\n",
    "df_etc_final = df_etc.union(df_etc_2024).toPandas().set_index('Date')"
   ]
  },
  {
   "cell_type": "code",
   "execution_count": 0,
   "metadata": {
    "application/vnd.databricks.v1+cell": {
     "cellMetadata": {
      "byteLimit": 2048000,
      "rowLimit": 10000
     },
     "inputWidgets": {},
     "nuid": "71ed476c-d250-435d-b200-e9d254434fd7",
     "showTitle": false,
     "title": ""
    }
   },
   "outputs": [
    {
     "output_type": "execute_result",
     "data": {
      "text/plain": [
       "<Axes: xlabel='Date'>"
      ]
     },
     "execution_count": 122,
     "metadata": {},
     "output_type": "execute_result"
    },
    {
     "output_type": "display_data",
     "data": {
      "image/png": "[encoded data removed]",
      "text/plain": [
       "<Figure size 640x480 with 1 Axes>"
      ]
     },
     "metadata": {},
     "output_type": "display_data"
    }
   ],
   "source": [
    "df_etc_final[['Close']].plot()"
   ]
  }
 ],
 "metadata": {
  "application/vnd.databricks.v1+notebook": {
   "dashboards": [],
   "language": "python",
   "notebookMetadata": {
    "mostRecentlyExecutedCommandWithImplicitDF": {
     "commandId": 3133476116633471,
     "dataframes": [
      "_sqldf"
     ]
    },
    "pythonIndentUnit": 4
   },
   "notebookName": "Previsão de preço: Ethereum e Bitcoin",
   "widgets": {}
  }
 },
 "nbformat": 4,
 "nbformat_minor": 0
}
